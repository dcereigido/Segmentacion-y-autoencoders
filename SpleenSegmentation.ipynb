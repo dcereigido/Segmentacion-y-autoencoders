{
  "nbformat": 4,
  "nbformat_minor": 0,
  "metadata": {
    "colab": {
      "name": "SpleenSegmentation.ipynb",
      "version": "0.3.2",
      "provenance": [],
      "collapsed_sections": []
    },
    "kernelspec": {
      "name": "python3",
      "display_name": "Python 3"
    },
    "accelerator": "GPU"
  },
  "cells": [
    {
      "cell_type": "markdown",
      "metadata": {
        "id": "jzubvtwqW8pA",
        "colab_type": "text"
      },
      "source": [
        ">>>>>>>>> ## *BUSCANDO EL VASO*\n",
        "\n",
        "\n",
        "\n",
        ">>>>>>>> <img src='https://raw.githubusercontent.com/cmosquer/softmax/master/vaso.jpg' alt=\"Drawing\" style=\"width:5%\" size=10/>"
      ]
    },
    {
      "cell_type": "markdown",
      "metadata": {
        "id": "Bn9pzdNAM0lh",
        "colab_type": "text"
      },
      "source": [
        "##Segmentación del vaso en tomografía computada abdominal\n",
        "\n",
        "El objetivo de esta práctica es entrenar un modelo que segmente el área de imagen perteneciente al vaso en un corte de tomografía computada de abdomen. Para eso, utilizaremos un dataset de 41 tomografías donde se ha delimitado manualmente el área del vaso. \n",
        "\n",
        "<img src='https://raw.githubusercontent.com/cmosquer/softmax/master/spleendiagram.png' alt=\"Drawing\" style=\"width:5%\" size=10/>\n",
        "\n"
      ]
    },
    {
      "cell_type": "markdown",
      "metadata": {
        "id": "6SOkAas6WutR",
        "colab_type": "text"
      },
      "source": [
        "Entra al siguiente link y, sobre el nombre de la carpeta, realizá \"Agregar a Mi Unidad\":\n",
        "\n",
        "https://drive.google.com/open?id=1sXNLvCFVnSEkiU4DOB0j4Pei-NzgvOTT\n"
      ]
    },
    {
      "cell_type": "code",
      "metadata": {
        "id": "odgPRciZO3Nd",
        "colab_type": "code",
        "colab": {}
      },
      "source": [
        "import os\n",
        "\n",
        "from google.colab import drive\n",
        "drive.mount('/content/gdrive',force_remount=True)\n"
      ],
      "execution_count": 0,
      "outputs": []
    },
    {
      "cell_type": "markdown",
      "metadata": {
        "id": "qrFu9mJaOIeQ",
        "colab_type": "text"
      },
      "source": [
        "Verificá que en el panel de la izquierda, en la pestaña Archivos, el directorio incluya la carpeta gdrive. "
      ]
    },
    {
      "cell_type": "markdown",
      "metadata": {
        "id": "gLxQxq4TmIC2",
        "colab_type": "text"
      },
      "source": [
        "## Nifti\n",
        "\n",
        "Las imágenes nifti (.nii o .nii.gz) son un tipo de dato diseñado para imágenes médicas que contiene información sobre el sampleo y otros parámetros de adquisición de la imagen.\n",
        "\n",
        "El paquete nibabel es de los más usados para trabajar con imágenes nifti."
      ]
    },
    {
      "cell_type": "code",
      "metadata": {
        "id": "AJ3ihb12KMia",
        "colab_type": "code",
        "colab": {}
      },
      "source": [
        "working_dir = '/content/gdrive/My Drive/Images/spleen_training/'  #Modificá el path a donde tenés en Mi Unidad la carptea spleen_training\n",
        "images_path = os.path.join(working_dir,'images3D')\n",
        "example_img_path = os.path.join(images_path,'spleen_2.nii.gz')\n"
      ],
      "execution_count": 0,
      "outputs": []
    },
    {
      "cell_type": "code",
      "metadata": {
        "id": "hTXQo70JKicw",
        "colab_type": "code",
        "colab": {}
      },
      "source": [
        "import nibabel as nib\n",
        "import numpy as np\n",
        "\n",
        "img = nib.load(example_img_path)\n",
        "img"
      ],
      "execution_count": 0,
      "outputs": []
    },
    {
      "cell_type": "code",
      "metadata": {
        "id": "l-aoJsjnLGN4",
        "colab_type": "code",
        "colab": {}
      },
      "source": [
        "print(img)"
      ],
      "execution_count": 0,
      "outputs": []
    },
    {
      "cell_type": "code",
      "metadata": {
        "id": "xtqpj_Y_Npb-",
        "colab_type": "code",
        "colab": {}
      },
      "source": [
        "def loadnifty(path,dim=None):\n",
        "\n",
        "  img = nib.load(path)\n",
        "  img_data = img.get_fdata() \n",
        "  return img_data\n",
        "  "
      ],
      "execution_count": 0,
      "outputs": []
    },
    {
      "cell_type": "code",
      "metadata": {
        "id": "SuyAaNnvYRAU",
        "colab_type": "code",
        "colab": {}
      },
      "source": [
        "\n",
        "example_img = loadnifty(example_img_path)\n",
        "type(example_img)"
      ],
      "execution_count": 0,
      "outputs": []
    },
    {
      "cell_type": "markdown",
      "metadata": {
        "id": "s80vlA9BOie6",
        "colab_type": "text"
      },
      "source": [
        "¿Cuántos cortes axiales tiene la tomografía del paciente 2? ¿Y la del paciente 10?"
      ]
    },
    {
      "cell_type": "code",
      "metadata": {
        "id": "hz6_U4XHOuu4",
        "colab_type": "code",
        "colab": {}
      },
      "source": [
        "[...te toca implementar]"
      ],
      "execution_count": 0,
      "outputs": []
    },
    {
      "cell_type": "markdown",
      "metadata": {
        "id": "bYU8hNuEPqxo",
        "colab_type": "text"
      },
      "source": [
        "Graficá un corte axial. Graficá el histograma de la imagen con la función hist() de matplotlib"
      ]
    },
    {
      "cell_type": "code",
      "metadata": {
        "id": "6zVraf-TPiZQ",
        "colab_type": "code",
        "colab": {}
      },
      "source": [
        "[...te toca implementar]\n",
        "\n",
        "from matplotlib import pyplot as plt\n",
        "f = plt.figure(figsize=(20,20))\n",
        "# Visualizamos la imagen y el gt\n",
        "plt.subplot(1,2,1)\n",
        "plt.grid(False)\n",
        "plt.imshow(....., cmap='gray')\n",
        "\n",
        "\n",
        "plt.subplot(1,2,2)\n",
        "plt.grid(False)\n",
        "plt.title(\"Histograma de intesidades de la imagen\")\n",
        "_ = plt.hist(.....)"
      ],
      "execution_count": 0,
      "outputs": []
    },
    {
      "cell_type": "markdown",
      "metadata": {
        "id": "ACRBFC3RQlM4",
        "colab_type": "text"
      },
      "source": [
        "**Graficando las máscaras**\n"
      ]
    },
    {
      "cell_type": "code",
      "metadata": {
        "id": "hz1Z7KM_Q7Ji",
        "colab_type": "code",
        "colab": {}
      },
      "source": [
        "masks_path = os.path.join(working_dir,'labels3D')\n",
        "example_mask_path = os.path.join(masks_path,'spleen_2.nii.gz')\n",
        "example_img_path = os.path.join(images_path,'spleen_2.nii.gz')\n",
        "example_img = loadnifty(example_img_path)\n",
        "example_mask = loadnifty(example_mask_path)\n",
        "\n",
        "print('Dimensión imagen', example_img.shape)\n",
        "print('Dimensión máscara', example_mask.shape)"
      ],
      "execution_count": 0,
      "outputs": []
    },
    {
      "cell_type": "markdown",
      "metadata": {
        "id": "bIQ43hE6RaoC",
        "colab_type": "text"
      },
      "source": [
        "Graficá el corte 80 del paciente 2 y su correspondiente máscara."
      ]
    },
    {
      "cell_type": "markdown",
      "metadata": {
        "id": "_4L0gZacR6bc",
        "colab_type": "text"
      },
      "source": [
        ""
      ]
    },
    {
      "cell_type": "code",
      "metadata": {
        "id": "-46GypdNQkhx",
        "colab_type": "code",
        "colab": {}
      },
      "source": [
        "from matplotlib import pyplot as plt\n",
        "\n",
        "f = plt.figure(figsize=(15,15))\n",
        "\n",
        "plt.subplot(1,3,1)\n",
        "plt.grid(False)\n",
        "plt.imshow(example_img[:,:,80], cmap='gray')\n",
        "\n",
        "\n",
        "plt.subplot(1,3,2)\n",
        "plt.grid(False)\n",
        "plt.imshow(example_mask[:,:,80], cmap='jet')\n",
        "\n",
        "plt.subplot(1,3,3)\n",
        "plt.grid(False)\n",
        "plt.imshow(example_img[:,:,80], cmap='gray')\n",
        "plt.imshow(example_mask[:,:,80], cmap='jet', alpha = 0.5)"
      ],
      "execution_count": 0,
      "outputs": []
    },
    {
      "cell_type": "markdown",
      "metadata": {
        "id": "zg-Uuo15PTzv",
        "colab_type": "text"
      },
      "source": [
        "## Trabajando como imágenes 2D"
      ]
    },
    {
      "cell_type": "markdown",
      "metadata": {
        "id": "P6Lqykp2nFB2",
        "colab_type": "text"
      },
      "source": [
        "En un primer enfoque, vamos a considerar cada corte axial como una imagen independiente. Vamos a utilizar solamente aquellos cortes que contengan algún área del vaso. Estos se encuentran en la carpeta 'images2D'\n"
      ]
    },
    {
      "cell_type": "code",
      "metadata": {
        "id": "6UjFHp36YTSz",
        "colab_type": "code",
        "colab": {}
      },
      "source": [
        "images_2D= os.path.join(working_dir,'images2D/')\n",
        "labels_2D=os.path.join(working_dir,'labels2D')"
      ],
      "execution_count": 0,
      "outputs": []
    },
    {
      "cell_type": "markdown",
      "metadata": {
        "id": "LvfXBlT-TaLr",
        "colab_type": "text"
      },
      "source": [
        "**Recordamos el concepto de GENERADORES**\n",
        "\n",
        "¿Que?: una función que devuelve un objeto (iterador) sobre el cual se puede iterar (un valor a la vez).\n",
        "¿Como?: Definir una función normal con sentencia 'yield' en lugar de sentencia 'return'.\n",
        "\n",
        "Si una función contiene por lo menos una sentencia 'yield', se convierte en generador. Puede tener múltiples yields y returns.\n",
        "La diferencia es que una sentencia return termina por completo la función, mientras que una sentencia yield pone pausa a la función, guardando todos los estados de variables, y luego continua desde ese estado en llamados sucesivos.\n",
        "<img src='https://raw.githubusercontent.com/cmosquer/softmax/master/iterable-vs-iterator.png' alt=\"Drawing\" style=\"width:5%\" size=10/>"
      ]
    },
    {
      "cell_type": "code",
      "metadata": {
        "id": "BGCVSCU2UTYq",
        "colab_type": "code",
        "colab": {}
      },
      "source": [
        "#CON DISTINTOS YIELD\n",
        "def my_gen():\n",
        "    n = 1\n",
        "    print('This is printed first')\n",
        "    # Generator function contains yield statements\n",
        "    yield n\n",
        "\n",
        "    n += 1\n",
        "    print('This is printed second')\n",
        "    yield n\n",
        "\n",
        "    n += 1\n",
        "    print('This is printed at last')\n",
        "    yield n"
      ],
      "execution_count": 0,
      "outputs": []
    },
    {
      "cell_type": "code",
      "metadata": {
        "id": "-aDz22BhUYp7",
        "colab_type": "code",
        "colab": {}
      },
      "source": [
        "a = my_gen()"
      ],
      "execution_count": 0,
      "outputs": []
    },
    {
      "cell_type": "code",
      "metadata": {
        "id": "dU4DXmnEUZw7",
        "colab_type": "code",
        "colab": {}
      },
      "source": [
        "x = next(a)\n",
        "print(x)"
      ],
      "execution_count": 0,
      "outputs": []
    },
    {
      "cell_type": "code",
      "metadata": {
        "id": "svmXxh5GUnkA",
        "colab_type": "code",
        "colab": {}
      },
      "source": [
        "#CON CICLO\n",
        "def read_str(my_str):\n",
        "    length = len(my_str)\n",
        "    for i in range(length):\n",
        "        yield my_str[i]"
      ],
      "execution_count": 0,
      "outputs": []
    },
    {
      "cell_type": "code",
      "metadata": {
        "id": "GSAxNwz8UqTB",
        "colab_type": "code",
        "colab": {}
      },
      "source": [
        "str_gen = read_str('Aguante la pastafrola')"
      ],
      "execution_count": 0,
      "outputs": []
    },
    {
      "cell_type": "code",
      "metadata": {
        "id": "Ftc4AE9rUqqo",
        "colab_type": "code",
        "colab": {}
      },
      "source": [
        "#Puedo iterar sobre mi objeto de generador pidiendo el siguiente llamado con next(), o iterarlo con for  y recorrer todos sus llamados\n",
        "\n",
        "print(next(str_gen))"
      ],
      "execution_count": 0,
      "outputs": []
    },
    {
      "cell_type": "code",
      "metadata": {
        "id": "mn312Mh5U9vl",
        "colab_type": "code",
        "colab": {}
      },
      "source": [
        "for i in str_gen:\n",
        "  print(i)"
      ],
      "execution_count": 0,
      "outputs": []
    },
    {
      "cell_type": "markdown",
      "metadata": {
        "id": "VxutWnm1VLIa",
        "colab_type": "text"
      },
      "source": [
        "## Generador de batchs de datos\n",
        "Imagen + label\n",
        "\n",
        "Armar un generador que devuelva una imagen y su máscara,  en un tamaño específico de imagen, iterando sobre las imágenes de la carpeta images2D.\n",
        "\n",
        "1. Tomar imagen : input_path -> image\n",
        "2. Tomar máscara: input_path -> label\n",
        "3. Generar output : (image,label)\n",
        "\n",
        "\n",
        "\n",
        "\n",
        "```\n",
        "mygenerator = segmentation_generator(images_2D,labels_2D,dim=(512,512))\n",
        "img0,mask0 = next(mygenerator)\n",
        "```\n",
        "\n"
      ]
    },
    {
      "cell_type": "code",
      "metadata": {
        "id": "9SuLS7dOfDLX",
        "colab_type": "code",
        "colab": {}
      },
      "source": [
        "#Levantar una imagen y una mascara\n",
        "sample_name = os.listdir(images_2D)[0]\n",
        "print(sample_name)"
      ],
      "execution_count": 0,
      "outputs": []
    },
    {
      "cell_type": "code",
      "metadata": {
        "id": "jbahTqfpfS-g",
        "colab_type": "code",
        "colab": {}
      },
      "source": [
        "from skimage.io import imread\n",
        "from skimage.transform import resize\n",
        "\n",
        "sample_img = imread(os.path.join(images_2D,sample_name),as_gray=True)\n",
        "sample_img = resize(sample_img,(400,400))\n",
        "\n",
        "plt.imshow(sample_img,cmap='gray')\n",
        "print(sample_img.shape)"
      ],
      "execution_count": 0,
      "outputs": []
    },
    {
      "cell_type": "code",
      "metadata": {
        "id": "OdWYByaIXeQd",
        "colab_type": "code",
        "colab": {}
      },
      "source": [
        "def segmentation_generator(imagespath,labelspath,dim=(512,512)):    \n",
        "    sample_names = os.listdir(imagespath)\n",
        "    for s in sample_names:\n",
        "      img_path = os.path.join(....\n",
        "      mask_path = os.path.join(....\n",
        "      image = ....\n",
        "      mask = .....\n",
        "      yield (image,mask)"
      ],
      "execution_count": 0,
      "outputs": []
    },
    {
      "cell_type": "markdown",
      "metadata": {
        "id": "x8vpusLNY4E9",
        "colab_type": "text"
      },
      "source": [
        "Ahora lo hacemos para un batch"
      ]
    },
    {
      "cell_type": "code",
      "metadata": {
        "id": "ULqYQRCZVHRr",
        "colab_type": "code",
        "colab": {}
      },
      "source": [
        "def segmentation_generator(imagespath,labelspath,batch_size = 3,dim=(512,512)):    \n",
        "    sample_names = os.listdir(imagespath)\n",
        "    while True:\n",
        "          # Seleccionar cuáles muestras usar en este batch\n",
        "          batch_samplenames = np.random.choice(a = sample_names, \n",
        "                                         size = batch_size)\n",
        "          batch_images = []\n",
        "          batch_masks = [] \n",
        "          \n",
        "          # Read in each input, perform preprocessing and get labels\n",
        "          for input_path in batch_samplenames:\n",
        "              img_path = os.path.join(.....\n",
        "              mask_path = os.path.join (.....                      \n",
        "              image = ....\n",
        "              mask = ....\n",
        "\n",
        "              image = np.expand_dims(image[:,:,0],axis=-1) \n",
        "              mask = np.expand_dims(mask[:,:,0],axis=-1) \n",
        "              batch_input += [ image ]\n",
        "              batch_output += [ output ]\n",
        "              \n",
        "          # Return a tuple of (input,output) to feed the network\n",
        "          batch_x = np.array( batch_input )\n",
        "          batch_y = np.array( batch_output )\n",
        "        \n",
        "          yield( batch_x, batch_y )"
      ],
      "execution_count": 0,
      "outputs": []
    },
    {
      "cell_type": "markdown",
      "metadata": {
        "id": "7yUY0HLCZciL",
        "colab_type": "text"
      },
      "source": [
        "## Generador para Keras\n",
        "\n",
        "Feeding en tiempo real a tu modelo de Keras\n",
        "\n",
        "Heredamos propiedades de la clase keras.utils.Sequence para ganar algunas funcionalidades copadas como multiprocessing.\n",
        "\n",
        "La clase DataGenerator entonces tendrá que definir los siguientes métodos:\n",
        "\n",
        "\n",
        "```\n",
        "import keras\n",
        "\n",
        "class DataGenerator(keras.utils.Sequence):\n",
        "    'Generates data for Keras'\n",
        "    def __init__(......)\n",
        "\n",
        "    def __len__(....):\n",
        "        'Denotes the number of batches per epoch'\n",
        "\n",
        "    def __getitem__(......):\n",
        "        'Generate one batch of data'\n",
        "\n",
        "    def on_epoch_end(....):\n",
        "        'Updates indexes after each epoch'\n",
        "\n",
        "    def __data_generation(......):\n",
        "        'Generates data containing batch_size samples' \n",
        "```"
      ]
    },
    {
      "cell_type": "code",
      "metadata": {
        "id": "BOEG_nOBtJls",
        "colab_type": "code",
        "colab": {}
      },
      "source": [
        "from keras.utils import Sequence\n",
        "\n",
        "class ImagesMasksGenerator(Sequence):\n",
        "    'Generates data for Keras'\n",
        "    def __init__(self, images_dir, masks_dir, list_IDs=None, batch_size=8, dim=(512,512,1), shuffle=True):\n",
        "        'Initialization'\n",
        "        self.images_dir = images_dir\n",
        "        self.masks_dir = masks_dir\n",
        "        self.dim = dim\n",
        "        self.batch_size = batch_size\n",
        "        self.shuffle = shuffle        \n",
        "        self.images = [os.path.join(images_dir,file) for file in os.listdir(images_dir)]\n",
        "        #print(self.images[0])\n",
        "        self.list_IDs = list_IDs\n",
        "        if list_IDs is None:\n",
        "          self.list_IDs = list(range(len(self.images)))\n",
        "        self.on_epoch_end()        \n",
        "\n",
        "    def __len__(self):\n",
        "        'Denotes the number of batches per epoch'\n",
        "        return int(np.floor(len(self.list_IDs) / self.batch_size))\n",
        "\n",
        "    def __getitem__(self, index):\n",
        "        'Generate one batch of data'\n",
        "        # Generate indexes of the batch\n",
        "        indexes = self.indexes[index*self.batch_size:(index+1)*self.batch_size]\n",
        "\n",
        "        # Find list of IDs\n",
        "        list_IDs_temp = [self.list_IDs[k] for k in indexes]\n",
        "\n",
        "        # Generate data\n",
        "        img, mask = self.__data_generation(list_IDs_temp)\n",
        "\n",
        "        return img, mask\n",
        "\n",
        "    def on_epoch_end(self):\n",
        "        'Updates indexes after each epoch'\n",
        "        self.indexes = np.arange(len(self.list_IDs))\n",
        "        if self.shuffle == True:\n",
        "            np.random.shuffle(self.indexes)\n",
        "\n",
        "    def __data_generation(self, list_IDs_temp):\n",
        "        'Generates data containing batch_size samples'\n",
        "        # Initialization\n",
        "        imgs = np.empty((self.batch_size, *self.dim ))\n",
        "        #print(imgs.shape)\n",
        "        masks = np.empty((self.batch_size, *self.dim ))\n",
        "        \n",
        "        #imgs=np.empty(self.dim)\n",
        "        #masks=np.empty(self.dim)\n",
        "        \n",
        "        # Generate data\n",
        "        for i, ID in enumerate(list_IDs_temp): #list_IDs_temp = [0,3,67,90]\n",
        "            img_path = self.images[ID]\n",
        "            mask_path = os.path.join(self.masks_dir,os.path.basename(img_path))\n",
        "            #print('Masks dir: ',self.masks_dir)\n",
        "            #print('\\nImg path: ', img_path)\n",
        "            # Store sample\n",
        "            x = resize(imread(img_path,as_gray=True),(self.dim[0],self.dim[1]))\n",
        "            imgs[i,] = np.expand_dims(x,axis=-1)\n",
        "            y = resize(imread(mask_path,as_gray=True),(self.dim[0],self.dim[1]))\n",
        "            masks[i,] = np.expand_dims(y,axis=-1)\n",
        "        #print('batchshape',imgs.shape)\n",
        "        return imgs,masks"
      ],
      "execution_count": 0,
      "outputs": []
    },
    {
      "cell_type": "code",
      "metadata": {
        "id": "YF63wcwwZVA6",
        "colab_type": "code",
        "colab": {}
      },
      "source": [
        "traingenerator = ImagesMasksGenerator(images_2D,labels_2D,batch_size=8)"
      ],
      "execution_count": 0,
      "outputs": []
    },
    {
      "cell_type": "code",
      "metadata": {
        "id": "L7b7si1tgaVA",
        "colab_type": "code",
        "colab": {}
      },
      "source": [
        "next(traingenerator)"
      ],
      "execution_count": 0,
      "outputs": []
    },
    {
      "cell_type": "markdown",
      "metadata": {
        "id": "P1yKT5HYacEI",
        "colab_type": "text"
      },
      "source": [
        "**Con validación**"
      ]
    },
    {
      "cell_type": "code",
      "metadata": {
        "id": "H7KSa8rnaf_-",
        "colab_type": "code",
        "colab": {}
      },
      "source": [
        "paths = os.listdir(images_2D)\n",
        "print(len(paths))\n",
        "val_split = 5\n",
        "input_idxs = np.random.permutation(len(paths))\n",
        "split_idx = int(len(paths)*(1-val_split/100))\n",
        "indexes_train = input_idxs[:split_idx]\n",
        "indexes_val=input_idxs[split_idx:]\n",
        "\n",
        "\n",
        "print(\"Cantidad de imagenes de entrenamiento: \" + str(len(indexes_train)))\n",
        "print(\"Cantidad de imagenes de validación: \" + str(len(indexes_val)))\n"
      ],
      "execution_count": 0,
      "outputs": []
    },
    {
      "cell_type": "code",
      "metadata": {
        "id": "p-sxCwAIbvpr",
        "colab_type": "code",
        "colab": {}
      },
      "source": [
        "train_params = {'dim': (512, 512),\n",
        "                'batch_size': 8,\n",
        "                'shuffle': True,\n",
        "                'list_IDs': indexes_train}\n",
        "\n",
        "valid_params = {'dim': (512, 512),\n",
        "                'batch_size': 3,\n",
        "                'shuffle': True,\n",
        "                'list_IDs': indexes_val}\n",
        "                                 \n",
        "                               \n",
        "traingenerator = ImagesMasksGenerator(images_2D,labels_2D,**train_params)\n",
        "valid_generator = ImagesMasksGenerator(images_2D,labels_2D,  **valid_params)"
      ],
      "execution_count": 0,
      "outputs": []
    },
    {
      "cell_type": "markdown",
      "metadata": {
        "id": "Xo8-OxWDqH7n",
        "colab_type": "text"
      },
      "source": [
        "## DICE\n",
        "\n",
        "Debemos hacer una función de costo propia, que permita comparar una imagen entera contra otra imagen entera (en lugar de un número contra otro número).\n",
        "\n",
        "En segmentación se usa mucho la métrica del DICE: \n",
        "\n",
        "$$ Dice Coef = \\frac{2|X \\cap Y|}{|X|+|Y|} $$"
      ]
    },
    {
      "cell_type": "code",
      "metadata": {
        "id": "9yl__ddii6IP",
        "colab_type": "code",
        "colab": {}
      },
      "source": [
        "!pip install medpy \n",
        "import medpy.metric.binary as metrics"
      ],
      "execution_count": 0,
      "outputs": []
    },
    {
      "cell_type": "code",
      "metadata": {
        "id": "GJU_BHqhdpoA",
        "colab_type": "code",
        "colab": {}
      },
      "source": [
        "example_img = loadnifty(example_img_path)[:,:,80]\n",
        "\n",
        "example_mask = loadnifty(example_mask_path)[:,:,80]\n",
        "displaced_example_mask = loadnifty(example_mask_path)[:,:,75]\n",
        "\n",
        "\n",
        "example_perfect_dice = metrics.dc(example_mask,example_mask)\n",
        "example_bad_dice = metrics.dc(displaced_example_mask,example_mask)\n",
        "\n",
        "print('Ground truth con ground truth',example_perfect_dice)\n",
        "print('Ground truth con desplazada',example_bad_dice)\n",
        "\n",
        "plt.figure(figsize=(20,40))\n",
        "\n",
        "plt.subplot(1,3,1)\n",
        "plt.grid(False)\n",
        "plt.title(\"Imagen de test: \" + str(os.path.basename(example_img_path)))\n",
        "\n",
        "plt.imshow(example_img, cmap='gray')\n",
        "\n",
        "plt.subplot(1,3,2)\n",
        "plt.grid(False)\n",
        "\n",
        "plt.imshow(example_mask, cmap = 'viridis')\n",
        "plt.subplot(1,3,3)\n",
        "plt.grid(False)\n",
        "plt.imshow(displaced_example_mask, cmap='viridis')\n",
        "plt.imshow(example_mask, cmap='jet', alpha = 0.5)"
      ],
      "execution_count": 0,
      "outputs": []
    },
    {
      "cell_type": "markdown",
      "metadata": {
        "id": "-25tYMTiIfZ_",
        "colab_type": "text"
      },
      "source": [
        " **Funciones de costo personalizadas**\n",
        "\n",
        "Para esta segmentación necesitaremos implementar una función de costo propia. Veamos primero la estructura de una función de costo en Keras (casi idéntica en TensorFlow) con algunas de las funciones más usadas: \n"
      ]
    },
    {
      "cell_type": "code",
      "metadata": {
        "colab_type": "code",
        "id": "2o4ENI-GSoF9",
        "colab": {}
      },
      "source": [
        "def mean_squared_error(y_true, y_pred):    \n",
        "    return K.mean(K.square(y_pred - y_true), axis=-1)"
      ],
      "execution_count": 0,
      "outputs": []
    },
    {
      "cell_type": "code",
      "metadata": {
        "colab_type": "code",
        "id": "b3FyHawLSofW",
        "colab": {}
      },
      "source": [
        "def categorical_crossentropy(y_true, y_pred):\n",
        "    return K.categorical_crossentropy(y_true, y_pred)\n",
        "  \n",
        "\n",
        "  \n",
        "def categorical_crossentropy(target, output, from_logits=False, axis=-1):\n",
        "  \"\"\"Categorical crossentropy between an output tensor and a target tensor.\n",
        "  Arguments:\n",
        "      target: A tensor of the same shape as `output`.\n",
        "      output: A tensor resulting from a softmax\n",
        "          (unless `from_logits` is True, in which\n",
        "          case `output` is expected to be the logits).\n",
        "      from_logits: Boolean, whether `output` is the\n",
        "          result of a softmax, or is a tensor of logits.\n",
        "      axis: Int specifying the channels axis. `axis=-1` corresponds to data\n",
        "          format `channels_last', and `axis=1` corresponds to data format\n",
        "          `channels_first`.\n",
        "  Returns:\n",
        "      Output tensor.\n",
        "  Raises:\n",
        "      ValueError: if `axis` is neither -1 nor one of the axes of `output`.\n",
        "  \"\"\"\n",
        "  rank = len(output.shape)\n",
        "  axis = axis % rank\n",
        "  # Note: nn.softmax_cross_entropy_with_logits_v2\n",
        "  # expects logits, Keras expects probabilities.\n",
        "  if not from_logits:\n",
        "    # scale preds so that the class probas of each sample sum to 1\n",
        "    output = output / math_ops.reduce_sum(output, axis, True)\n",
        "    # manual computation of crossentropy\n",
        "    epsilon_ = _to_tensor(epsilon(), output.dtype.base_dtype)\n",
        "    output = clip_ops.clip_by_value(output, epsilon_, 1. - epsilon_)\n",
        "    return -math_ops.reduce_sum(target * math_ops.log(output), axis)\n",
        "  else:\n",
        "    return nn.softmax_cross_entropy_with_logits_v2(labels=target, logits=output)"
      ],
      "execution_count": 0,
      "outputs": []
    },
    {
      "cell_type": "markdown",
      "metadata": {
        "id": "TVYmL7y5kj1n",
        "colab_type": "text"
      },
      "source": [
        "**DICE EN TENSORFLOW**"
      ]
    },
    {
      "cell_type": "code",
      "metadata": {
        "id": "RSfW_s02_mzQ",
        "colab_type": "code",
        "colab": {}
      },
      "source": [
        "import tensorflow as tf\n",
        "def dice_coef(y_true, y_pred):\n",
        "  numerator = 2 * tf.reduce_sum(y_true * y_pred)\n",
        "  # some implementations don't square y_pred\n",
        "  denominator = tf.reduce_sum(y_true + tf.square(y_pred))\n",
        "\n",
        "  return numerator / (denominator + tf.keras.backend.epsilon())"
      ],
      "execution_count": 0,
      "outputs": []
    },
    {
      "cell_type": "code",
      "metadata": {
        "id": "jQazLQZnxfds",
        "colab_type": "code",
        "colab": {}
      },
      "source": [
        "def dice_loss(y_true,y_pred):\n",
        "  return -dice_coef(y_true,y_pred)"
      ],
      "execution_count": 0,
      "outputs": []
    },
    {
      "cell_type": "markdown",
      "metadata": {
        "id": "02ZKcTjWnvjf",
        "colab_type": "text"
      },
      "source": [
        "## UNET: La red segmentadora\n",
        "\n",
        "<img src=\"https://raw.githubusercontent.com/cmosquer/softmax/master/u-net-architecture2.png\" alt=\"Drawing\" style=\"width:40%;\"/>\n"
      ]
    },
    {
      "cell_type": "code",
      "metadata": {
        "id": "FC0yst-shWzt",
        "colab_type": "code",
        "colab": {}
      },
      "source": [
        "import skimage.transform as trans\n",
        "from keras.models import *\n",
        "from keras.layers import *\n",
        "from keras.optimizers import *\n",
        "from keras.callbacks import ModelCheckpoint, LearningRateScheduler\n",
        "from keras import backend as keras"
      ],
      "execution_count": 0,
      "outputs": []
    },
    {
      "cell_type": "markdown",
      "metadata": {
        "id": "H4iD1RyHfWfj",
        "colab_type": "text"
      },
      "source": [
        " Implementar un U-Net que tenga:\n",
        " \n",
        " - Relu como función de activación\n",
        " - 32 feature maps a la salida del primer nivel de convolución.\n",
        " - 4 niveles de MaxPooling de 2x2\n",
        " - Que utilice 'he' como método de incialización de pesos: kernel_initializer = 'he_normal'"
      ]
    },
    {
      "cell_type": "code",
      "metadata": {
        "id": "zsuDUD1x1hqE",
        "colab_type": "code",
        "colab": {}
      },
      "source": [
        "def unet(input_size = (512,512,1)):\n",
        "    inputs = Input(input_size)    \n",
        "    \n",
        "    #PRIMERAS FLECHAS AZULES IZQUIERDA   \n",
        "    conv1 = Conv2D(32, 3, activation = 'relu', padding = 'same', kernel_initializer = 'he_normal')(inputs)\n",
        "    conv1 = ...\n",
        "    \n",
        "    #PRIMERA FLECHA ROJA IZQUIERDA\n",
        "    pool1 = MaxPooling2D(pool_size=(....\n",
        "\n",
        "    #SEGUNDAS FLECHAS AZULES IZQUIERDA                               \n",
        "    conv2 = ...\n",
        "    conv2 = ...\n",
        "                                    \n",
        "    #SEGUNDA FLECHA ROJA IZQUIERDA                               \n",
        "    pool2 = ...\n",
        "    \n",
        "    conv3 = ...\n",
        "    conv3 = ...\n",
        "    pool3 = ...\n",
        "    \n",
        "    conv4 = ...\n",
        "    conv4 = ...\n",
        "    pool4 = ...\n",
        "\n",
        "    conv5 = ...\n",
        "    conv5 = ...\n",
        "\n",
        "    #PRIMERA FLECHA VERDE DERECHA (DESDE ABAJO)\n",
        "    up1 = Conv2D(256, 2, activation = 'relu', padding = 'same', kernel_initializer = 'he_normal')(UpSampling2D(size = (2,2))(conv5))\n",
        "                                    \n",
        "    #PRIMERA FLECHA GRIS (DESDE ABAJO)                                \n",
        "    merge1 = concatenate([conv4, up1], axis = 3)\n",
        "    \n",
        "    #PRIMERAS FLECHAS AZULES DERECHA (DESDE ABAJO)                                \n",
        "    conv6 = ...\n",
        "    conv6 = ....\n",
        "    \n",
        "    up2 = ...\n",
        "    merge2 =...\n",
        "    conv7 = ...\n",
        "    conv7 = ...\n",
        "\n",
        "    up3 = ...\n",
        "    merge3 = ...\n",
        "    conv8 = ...\n",
        "    conv8 = ...\n",
        "\n",
        "    up4 = ...\n",
        "    merge4 = ...\n",
        "    conv9 = ...\n",
        "    conv9 = ...\n",
        "    \n",
        "    conv9=....\n",
        "    out = Conv2D(1, 1, activation = 'sigmoid',name='output1')(conv9)\n",
        "    \n",
        "    model = Model(input = inputs, output = out)\n",
        "    optimizer = Adam(lr=1e-5)\n",
        "    # Compilar el modelo usando Adam como algoritmo de optimización, con learning rate = 1e-5\n",
        "    model.compile(optimizer = optimizer, loss=dice_loss, metrics=[dice_coef])\n",
        "    \n",
        "    print(\"Model created\")\n",
        "    return model"
      ],
      "execution_count": 0,
      "outputs": []
    },
    {
      "cell_type": "markdown",
      "metadata": {
        "id": "DpatZIGIkwi5",
        "colab_type": "text"
      },
      "source": [
        "##¡ENTRENAR!"
      ]
    },
    {
      "cell_type": "code",
      "metadata": {
        "id": "s52ZyUcJf8rN",
        "colab_type": "code",
        "colab": {}
      },
      "source": [
        "model=unet()\n",
        "model_checkpoint = ModelCheckpoint('unet_CMR.hdf5', monitor='loss',verbose=1, save_best_only=True)\n",
        "history = model.fit_generator(traingenerator,steps_per_epoch=400, epochs=20,validation_data=validgenerator,callbacks=[model_checkpoint])\n",
        "\n",
        "\n",
        "import pickle\n",
        "with open('/content/gdrive/My Drive/Images/spleen_training/model_unet18-6.txt', mode='wb+') as f:\n",
        "  pickle.dump({'model':model, 'history': history},f)"
      ],
      "execution_count": 0,
      "outputs": []
    },
    {
      "cell_type": "markdown",
      "metadata": {
        "id": "QtcdtSS2llh9",
        "colab_type": "text"
      },
      "source": [
        "**Evaluar curvas de entrenamiento y validación**"
      ]
    },
    {
      "cell_type": "code",
      "metadata": {
        "id": "SS-iwhq2lkOG",
        "colab_type": "code",
        "colab": {}
      },
      "source": [
        "import pickle\n",
        "with open('/content/gdrive/My Drive/Images/spleen_training/model_unet18-6.txt', mode='rb') as f:\n",
        "  dictresults=pickle.load(f)\n",
        "  model= dictresults['model']\n",
        "  hist=dictresults['hist']"
      ],
      "execution_count": 0,
      "outputs": []
    },
    {
      "cell_type": "markdown",
      "metadata": {
        "id": "e5rOVEA-eRG1",
        "colab_type": "text"
      },
      "source": [
        "## Predecir nuevas imágenes\n",
        "\n",
        "Como utilizamos métricas y loss propias, debemos tener esas funciones definidas al cargar el modelo. Con el parámetro 'custom_objects' podemos indicar un diccionario de funciones propias."
      ]
    },
    {
      "cell_type": "code",
      "metadata": {
        "id": "Wf_Up1hHuS6A",
        "colab_type": "code",
        "colab": {}
      },
      "source": [
        "from keras.models import load_model\n",
        "from skimage.io import imread\n",
        "from skimage.transform import resize\n",
        "\n",
        "\n",
        "modelFile='/content/gdrive/My Drive/Images/spleen_training/unet2D_trained_example_model.hdf5'\n",
        "model = load_model(modelFile, custom_objects={'dice_loss': dice_loss, 'dice_coef': dice_coef})"
      ],
      "execution_count": 0,
      "outputs": []
    },
    {
      "cell_type": "code",
      "metadata": {
        "id": "8eLtdxhcec7D",
        "colab_type": "code",
        "colab": {}
      },
      "source": [
        "test_images_2D='/content/gdrive/My Drive/Images/spleen_training/unlabeled_images2D/'\n",
        "testgenerator = ImagesMasksGenerator(test_images_2D,test_images_2D,batch_size=1,shuffle=False)\n",
        "len(os.listdir(test_images_2D))"
      ],
      "execution_count": 0,
      "outputs": []
    },
    {
      "cell_type": "code",
      "metadata": {
        "id": "iW1xi0BOlW6I",
        "colab_type": "code",
        "colab": {}
      },
      "source": [
        "preds=model.predict_generator(testgenerator)\n",
        "print(preds.shape)"
      ],
      "execution_count": 0,
      "outputs": []
    },
    {
      "cell_type": "code",
      "metadata": {
        "id": "tDiPRKCAlc3X",
        "colab_type": "code",
        "colab": {}
      },
      "source": [
        "f = plt.figure(figsize=(15,20))\n",
        "# Visualizamos la imagen y el gt\n",
        "plt.subplot(1,2,1)\n",
        "plt.grid(False)\n",
        "plt.imshow(imread(testgenerator.images[2],as_gray=True), cmap='gray')\n",
        "\n",
        "\n",
        "plt.subplot(1,2,2)\n",
        "plt.grid(False)\n",
        "plt.imshow(preds[1,:,:,0])#, cmap='jet')"
      ],
      "execution_count": 0,
      "outputs": []
    },
    {
      "cell_type": "markdown",
      "metadata": {
        "id": "k_Feuh4LpihZ",
        "colab_type": "text"
      },
      "source": [
        "Para exportar una máscara binaria, necesitamos binarizar la máscara de salida. \n",
        "Definí un umbral y guardá esa máscara binaria para cada paciente de unlabeled_images2D. "
      ]
    },
    {
      "cell_type": "code",
      "metadata": {
        "id": "TEGYZFNnN0LM",
        "colab_type": "code",
        "colab": {}
      },
      "source": [
        "[...te toca implementar]"
      ],
      "execution_count": 0,
      "outputs": []
    },
    {
      "cell_type": "markdown",
      "metadata": {
        "id": "AhigHEGHp7vo",
        "colab_type": "text"
      },
      "source": [
        "**Bonus**: aplicar un método de procesamiento de imágenes para refinar la segmentación. Por ejemplo:\n",
        "\n",
        "- operaciones morfológicas. \n",
        "- buscar la etiqueta conexa de mayor tamaño y seleccionar solo esta. \n",
        "- etc"
      ]
    },
    {
      "cell_type": "markdown",
      "metadata": {
        "id": "BSXQgDLUqNqw",
        "colab_type": "text"
      },
      "source": [
        "**Bonus 2**: aplicar la segmentación refinada a los volúmenes 3D en la carpeta unlabeled_images3D. Exportar una imagen tridimensional de salida con la máscara binaria tridimensional."
      ]
    },
    {
      "cell_type": "markdown",
      "metadata": {
        "id": "ASrfOtVfsBI3",
        "colab_type": "text"
      },
      "source": [
        "**Bonus 3**: entrenar un modelo que tome porciones de imagenes tridimensionales como entradas. Estos pequeños cubos, conocidos como pathces, es conveniente tenerlos hardcodeados de antemano. Es decir, el primer paso es recorrer todos los nifti y recortarlos  en \"cubos\", y guardar estos cubos individualmente (archivos .npy o .nii que tengan una matriz de 3 dimensiones). "
      ]
    },
    {
      "cell_type": "code",
      "metadata": {
        "id": "I5TE8TdbepVK",
        "colab_type": "code",
        "colab": {}
      },
      "source": [
        ""
      ],
      "execution_count": 0,
      "outputs": []
    }
  ]
}